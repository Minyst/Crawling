{
 "cells": [
  {
   "cell_type": "code",
   "execution_count": 4,
   "id": "bf78ac4d",
   "metadata": {},
   "outputs": [],
   "source": [
    "from selenium import webdriver\n",
    "from selenium.webdriver.common.by import By"
   ]
  },
  {
   "cell_type": "code",
   "execution_count": 2,
   "id": "37ad0a73",
   "metadata": {},
   "outputs": [],
   "source": [
    "browser = webdriver.Chrome()"
   ]
  },
  {
   "cell_type": "code",
   "execution_count": 3,
   "id": "81898706",
   "metadata": {},
   "outputs": [],
   "source": [
    "browser.get('https://search.naver.com/search.naver?where=nexearch&sm=top_hty&fbm=1&ie=utf8&query=%ED%99%98%EC%9C%A8')"
   ]
  },
  {
   "cell_type": "code",
   "execution_count": 10,
   "id": "25278ada",
   "metadata": {},
   "outputs": [
    {
     "name": "stdout",
     "output_type": "stream",
     "text": [
      "통화명\n",
      "매매기준율\n",
      "전일대비\n",
      "등락률\n",
      "미국 USD\n",
      "일본 JPY 100\n",
      "유럽연합 EUR\n",
      "중국 CNY\n",
      "영국 GBP\n",
      "호주 AUD\n",
      "캐나다 CAD\n",
      "뉴질랜드 NZD\n"
     ]
    }
   ],
   "source": [
    "for i in browser.find_elements(By.TAG_NAME,'th'):\n",
    "    print(i.text)"
   ]
  },
  {
   "cell_type": "code",
   "execution_count": 15,
   "id": "420e0892",
   "metadata": {},
   "outputs": [
    {
     "name": "stdout",
     "output_type": "stream",
     "text": [
      "\n",
      "\n",
      "\n",
      "\n",
      "\n",
      "\n",
      "\n",
      "\n",
      "\n",
      "\n",
      "미국USD\n",
      "3.00\n",
      "(-0.21%)\n",
      "2022.10.25 20:01\n",
      "USD\n",
      "KRW\n",
      "USD\n",
      "3.00\n",
      "JPY 100\n",
      "0.71\n",
      "EUR\n",
      "2.81\n",
      "CNY\n",
      "1.80\n",
      "GBP\n",
      "2.95\n",
      "AUD\n",
      "0.63\n",
      "CAD\n",
      "3.37\n",
      "NZD\n",
      "2.14\n",
      "‘\n",
      "’\n",
      "‘\n",
      "’\n"
     ]
    }
   ],
   "source": [
    "for i in browser.find_elements(By.TAG_NAME,'em'):\n",
    "    print(i.text)\n"
   ]
  }
 ],
 "metadata": {
  "kernelspec": {
   "display_name": "Python 3 (ipykernel)",
   "language": "python",
   "name": "python3"
  },
  "language_info": {
   "codemirror_mode": {
    "name": "ipython",
    "version": 3
   },
   "file_extension": ".py",
   "mimetype": "text/x-python",
   "name": "python",
   "nbconvert_exporter": "python",
   "pygments_lexer": "ipython3",
   "version": "3.9.7"
  }
 },
 "nbformat": 4,
 "nbformat_minor": 5
}
