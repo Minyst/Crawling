{
 "cells": [
  {
   "cell_type": "code",
   "execution_count": 1,
   "id": "c2008a18",
   "metadata": {},
   "outputs": [],
   "source": [
    "from selenium import webdriver\n",
    "from selenium.webdriver.common.by import By"
   ]
  },
  {
   "cell_type": "code",
   "execution_count": 2,
   "id": "630ae0ae",
   "metadata": {},
   "outputs": [],
   "source": [
    "browser = webdriver.Chrome()"
   ]
  },
  {
   "cell_type": "code",
   "execution_count": 3,
   "id": "2fafe54f",
   "metadata": {},
   "outputs": [],
   "source": [
    "browser.get('https://www.dbpia.co.kr/search/topSearch?startCount=0&collection=ALL&range=A&searchField=ALL&sort=RANK&query=%EC%9D%B8%EA%B3%B5%EC%A7%80%EB%8A%A5&srchOption=*&includeAr=false#a')"
   ]
  },
  {
   "cell_type": "code",
   "execution_count": null,
   "id": "1dac450d",
   "metadata": {},
   "outputs": [],
   "source": [
    "import time\n",
    "articles = []\n",
    "# while True:\n",
    "    for i in browser.find_elements(By.CLASS_NAME,'dpPaging__link'):\n",
    "        i.click()\n",
    "        time.sleep(3)\n",
    "        browser.implicitly_wait(5)\n",
    "        for j in browser.find_elements(By.CLASS_NAME,'thesis'):\n",
    "            url = i.find_element(By.TAG_NAME,'a').get_attribute('href')\n",
    "            browser.get(url)\n",
    "            article = browser.find_element(By.CLASS_NAME,'abstractTxt').text\n",
    "            articles.append(article)\n",
    "#     try:\n",
    "#         browser.find_element(By.CLASS_NAME,'dpPaging__btn').click()\n",
    "#         time.sleep(3)\n",
    "#         browser.implicitly_wait(5)\n",
    "#     except:\n",
    "#         break\n",
    "        "
   ]
  }
 ],
 "metadata": {
  "kernelspec": {
   "display_name": "Python 3 (ipykernel)",
   "language": "python",
   "name": "python3"
  },
  "language_info": {
   "codemirror_mode": {
    "name": "ipython",
    "version": 3
   },
   "file_extension": ".py",
   "mimetype": "text/x-python",
   "name": "python",
   "nbconvert_exporter": "python",
   "pygments_lexer": "ipython3",
   "version": "3.9.7"
  }
 },
 "nbformat": 4,
 "nbformat_minor": 5
}
