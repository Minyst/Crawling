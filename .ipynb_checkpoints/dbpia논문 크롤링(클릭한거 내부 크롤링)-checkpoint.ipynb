{
 "cells": [
  {
   "cell_type": "code",
   "execution_count": null,
   "id": "031f7517",
   "metadata": {},
   "outputs": [],
   "source": [
    "from selenium import webdriver\n",
    "from selenium.webdriver.common.by import By"
   ]
  },
  {
   "cell_type": "code",
   "execution_count": null,
   "id": "b663765e",
   "metadata": {},
   "outputs": [],
   "source": [
    "browser = webdriver.Chrome()"
   ]
  },
  {
   "cell_type": "code",
   "execution_count": null,
   "id": "dfbc4fb5",
   "metadata": {},
   "outputs": [],
   "source": [
    "title = input('원하시는 제목을 입력하세요: ')\n",
    "url = 'https://www.dbpia.co.kr/search/topSearch?searchOption=all&query={}'.format(title)\n",
    "browser.get(url)"
   ]
  },
  {
   "cell_type": "code",
   "execution_count": null,
   "id": "db67bbbf",
   "metadata": {},
   "outputs": [],
   "source": [
    "#아래코드는 1페이지부터 10페이지까지 크롤링하는 것\n",
    "#그 이후의 페이지 크롤링하는건 생략했다.\n",
    "import time\n",
    "article_list = []\n",
    "for i in range(1,11):\n",
    "    xpath = '//*[@id=\"pageList\"]/a[{}]'.format(i)\n",
    "    browser.find_element(By.XPATH,xpath).click()\n",
    "    time.sleep(3)\n",
    "    blink = browser.find_elements(By.CLASS_NAME,'thesis__link')\n",
    "    for i in blink:\n",
    "        alink = i.get_attribute('href')\n",
    "        browser.get(alink)\n",
    "        time.sleep(3)\n",
    "        try:\n",
    "            text = browser.find_element(By.CLASS_NAME,'abstractTxt').text\n",
    "        except:\n",
    "            text = ''\n",
    "        article_list.append(text)\n",
    "        browser.back()\n"
   ]
  },
  {
   "cell_type": "code",
   "execution_count": null,
   "id": "5368f4a9",
   "metadata": {},
   "outputs": [],
   "source": [
    "#이건 back을 안하고 href에서 뽑은 링크들을 리스트로 묶어서하는 두번째방법인데 \n",
    "#다음페이지로 넘어갈 수가 없는 문제가 생긴다.\n",
    "#그냥 back하지 않고 링크들을 리스트로 묶어서 하는 방법이 있다고 알아두면된다. \n",
    "import time\n",
    "article_list = []\n",
    "for i in range(1,11):\n",
    "    xpath = '//*[@id=\"pageList\"]/a[{}]'.format(i)\n",
    "    browser.find_element(By.XPATH,xpath).click()\n",
    "    time.sleep(3)\n",
    "    blink = browser.find_elements(By.CLASS_NAME,'thesis__link')\n",
    "    link_list = []\n",
    "    for i in blink:\n",
    "        alink = i.get_attribute('href')\n",
    "        link_list.append(alink)\n",
    "    \n",
    "    for i in link_list:\n",
    "        browser.get(i)\n",
    "        time.sleep(3)\n",
    "        try:\n",
    "            text = browser.find_element(By.CLASS_NAME,'abstractTxt').text\n",
    "        except:\n",
    "            text = ''\n",
    "        article_list.append(text)"
   ]
  }
 ],
 "metadata": {
  "kernelspec": {
   "display_name": "Python 3 (ipykernel)",
   "language": "python",
   "name": "python3"
  },
  "language_info": {
   "codemirror_mode": {
    "name": "ipython",
    "version": 3
   },
   "file_extension": ".py",
   "mimetype": "text/x-python",
   "name": "python",
   "nbconvert_exporter": "python",
   "pygments_lexer": "ipython3",
   "version": "3.9.7"
  }
 },
 "nbformat": 4,
 "nbformat_minor": 5
}
