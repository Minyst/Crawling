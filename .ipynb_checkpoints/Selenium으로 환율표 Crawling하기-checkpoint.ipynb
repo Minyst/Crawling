{
 "cells": [
  {
   "cell_type": "code",
   "execution_count": 8,
   "id": "bf78ac4d",
   "metadata": {},
   "outputs": [],
   "source": [
    "from selenium import webdriver\n",
    "from selenium.webdriver.common.by import By"
   ]
  },
  {
   "cell_type": "code",
   "execution_count": 9,
   "id": "37ad0a73",
   "metadata": {},
   "outputs": [],
   "source": [
    "browser = webdriver.Chrome()"
   ]
  },
  {
   "cell_type": "code",
   "execution_count": 10,
   "id": "81898706",
   "metadata": {},
   "outputs": [],
   "source": [
    "browser.get('https://search.naver.com/search.naver?where=nexearch&sm=top_hty&fbm=1&ie=utf8&query=%ED%99%98%EC%9C%A8')"
   ]
  },
  {
   "cell_type": "code",
   "execution_count": 16,
   "id": "ed0ca37d",
   "metadata": {},
   "outputs": [
    {
     "name": "stdout",
     "output_type": "stream",
     "text": [
      "['일본 JPY 100', '유럽연합 EUR', '중국 CNY', '영국 GBP', '호주 AUD', '캐나다 CAD', '뉴질랜드 NZD', '통화명', '미국 USD', '일본 JPY 100', '유럽연합 EUR', '중국 CNY', '영국 GBP', '호주 AUD', '캐나다 CAD', '뉴질랜드 NZD']\n"
     ]
    }
   ],
   "source": [
    "table = browser.find_element(By.CLASS_NAME, 'rate_table_bx')\n",
    "rows = table.find_elements(By.TAG_NAME, 'tr')\n",
    "for row in rows:\n",
    "    country_name = row.find_element(By.TAG_NAME, 'th').text\n",
    "    a.append(country_name)\n",
    "a = a[1:]\n",
    "print(a)"
   ]
  },
  {
   "cell_type": "code",
   "execution_count": 14,
   "id": "1a4ec1a7",
   "metadata": {},
   "outputs": [
    {
     "name": "stdout",
     "output_type": "stream",
     "text": [
      "1,421.00\n",
      "전일대비\n",
      "하락12.00\n",
      "-0.84%\n",
      "966.37\n",
      "전일대비\n",
      "하락2.04\n",
      "-0.21%\n",
      "1,423.84\n",
      "전일대비\n",
      "하락1.57\n",
      "-0.11%\n",
      "196.52\n",
      "전일대비\n",
      "상승0.56\n",
      "+0.29%\n",
      "1,643.95\n",
      "전일대비\n",
      "상승0.73\n",
      "+0.04%\n",
      "918.89\n",
      "전일대비\n",
      "상승3.85\n",
      "+0.42%\n",
      "1,047.63\n",
      "전일대비\n",
      "하락3.96\n",
      "-0.38%\n",
      "824.46\n",
      "전일대비\n",
      "하락0.23\n",
      "-0.03%\n"
     ]
    }
   ],
   "source": [
    "table = browser.find_element(By.CLASS_NAME, 'rate_table_bx')\n",
    "rows = table.find_elements(By.TAG_NAME, 'tr')\n",
    "for row in rows:\n",
    "    \n",
    "    datas = row.find_elements(By.TAG_NAME,'td')\n",
    "    for data in datas:\n",
    "        tmp = data.text\n",
    "        print(tmp)"
   ]
  },
  {
   "cell_type": "code",
   "execution_count": 17,
   "id": "58b5d414",
   "metadata": {},
   "outputs": [
    {
     "data": {
      "text/html": [
       "<div>\n",
       "<style scoped>\n",
       "    .dataframe tbody tr th:only-of-type {\n",
       "        vertical-align: middle;\n",
       "    }\n",
       "\n",
       "    .dataframe tbody tr th {\n",
       "        vertical-align: top;\n",
       "    }\n",
       "\n",
       "    .dataframe thead th {\n",
       "        text-align: right;\n",
       "    }\n",
       "</style>\n",
       "<table border=\"1\" class=\"dataframe\">\n",
       "  <thead>\n",
       "    <tr style=\"text-align: right;\">\n",
       "      <th></th>\n",
       "      <th>통화명</th>\n",
       "      <th>매매기준율</th>\n",
       "      <th>전일대비</th>\n",
       "      <th>등락율</th>\n",
       "    </tr>\n",
       "  </thead>\n",
       "  <tbody>\n",
       "    <tr>\n",
       "      <th>0</th>\n",
       "      <td>미국 USD</td>\n",
       "      <td>1,421.00</td>\n",
       "      <td>12.00</td>\n",
       "      <td>-0.84%</td>\n",
       "    </tr>\n",
       "    <tr>\n",
       "      <th>1</th>\n",
       "      <td>일본 JPY 100</td>\n",
       "      <td>966.37</td>\n",
       "      <td>2.04</td>\n",
       "      <td>-0.21%</td>\n",
       "    </tr>\n",
       "    <tr>\n",
       "      <th>2</th>\n",
       "      <td>유럽연합 EUR</td>\n",
       "      <td>1,423.84</td>\n",
       "      <td>1.57</td>\n",
       "      <td>-0.11%</td>\n",
       "    </tr>\n",
       "    <tr>\n",
       "      <th>3</th>\n",
       "      <td>중국 CNY</td>\n",
       "      <td>196.52</td>\n",
       "      <td>0.56</td>\n",
       "      <td>+0.29%</td>\n",
       "    </tr>\n",
       "    <tr>\n",
       "      <th>4</th>\n",
       "      <td>영국 GBP</td>\n",
       "      <td>1,643.95</td>\n",
       "      <td>0.73</td>\n",
       "      <td>+0.04%</td>\n",
       "    </tr>\n",
       "    <tr>\n",
       "      <th>5</th>\n",
       "      <td>호주 AUD</td>\n",
       "      <td>918.89</td>\n",
       "      <td>3.85</td>\n",
       "      <td>+0.42%</td>\n",
       "    </tr>\n",
       "    <tr>\n",
       "      <th>6</th>\n",
       "      <td>캐나다 CAD</td>\n",
       "      <td>1,047.63</td>\n",
       "      <td>3.96</td>\n",
       "      <td>-0.38%</td>\n",
       "    </tr>\n",
       "    <tr>\n",
       "      <th>7</th>\n",
       "      <td>뉴질랜드 NZD</td>\n",
       "      <td>824.46</td>\n",
       "      <td>0.23</td>\n",
       "      <td>-0.03%</td>\n",
       "    </tr>\n",
       "  </tbody>\n",
       "</table>\n",
       "</div>"
      ],
      "text/plain": [
       "          통화명     매매기준율   전일대비     등락율\n",
       "0      미국 USD  1,421.00  12.00  -0.84%\n",
       "1  일본 JPY 100    966.37   2.04  -0.21%\n",
       "2    유럽연합 EUR  1,423.84   1.57  -0.11%\n",
       "3      중국 CNY    196.52   0.56  +0.29%\n",
       "4      영국 GBP  1,643.95   0.73  +0.04%\n",
       "5      호주 AUD    918.89   3.85  +0.42%\n",
       "6     캐나다 CAD  1,047.63   3.96  -0.38%\n",
       "7    뉴질랜드 NZD    824.46   0.23  -0.03%"
      ]
     },
     "execution_count": 17,
     "metadata": {},
     "output_type": "execute_result"
    }
   ],
   "source": [
    "a = []\n",
    "b = []\n",
    "c = []\n",
    "d = []\n",
    "z = []\n",
    "table = browser.find_element(By.CLASS_NAME, 'rate_table_bx')\n",
    "rows = table.find_elements(By.TAG_NAME, 'tr')\n",
    "for row in rows:\n",
    "    country_name = row.find_element(By.TAG_NAME, 'th').text\n",
    "    a.append(country_name)\n",
    "    \n",
    "    datas = row.find_elements(By.TAG_NAME,'td')\n",
    "    for data in datas:\n",
    "        tmp = data.text\n",
    "        tmp = tmp.replace('전일대비\\n하락','')\n",
    "        tmp = tmp.replace('전일대비\\n상승','')\n",
    "        z.append(tmp)\n",
    "\n",
    "for idx in range(len(z)):\n",
    "    if idx % 3 == 0:\n",
    "        b.append(z[idx])\n",
    "    elif idx % 3 == 1:\n",
    "        c.append(z[idx])\n",
    "    elif idx % 3 == 2:\n",
    "        d.append(z[idx])\n",
    "\n",
    "    \n",
    "a = a[1:]\n",
    "\n",
    "import pandas as pd\n",
    "df = pd.DataFrame({'통화명':a,'매매기준율':b,'전일대비':c,'등락율':d})\n",
    "df"
   ]
  }
 ],
 "metadata": {
  "kernelspec": {
   "display_name": "Python 3 (ipykernel)",
   "language": "python",
   "name": "python3"
  },
  "language_info": {
   "codemirror_mode": {
    "name": "ipython",
    "version": 3
   },
   "file_extension": ".py",
   "mimetype": "text/x-python",
   "name": "python",
   "nbconvert_exporter": "python",
   "pygments_lexer": "ipython3",
   "version": "3.9.7"
  }
 },
 "nbformat": 4,
 "nbformat_minor": 5
}
