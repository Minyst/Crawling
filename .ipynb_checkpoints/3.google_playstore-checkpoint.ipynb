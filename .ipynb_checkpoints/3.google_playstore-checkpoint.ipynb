{
 "cells": [
  {
   "cell_type": "markdown",
   "id": "b29a9e14",
   "metadata": {},
   "source": [
    "## 구글 플레이 스토어 댓글 수집기\n",
    "- 내가 검색한 앱의 댓글을 수집합니다. (최소 스크롤 3번을 내립니다.)"
   ]
  },
  {
   "cell_type": "code",
   "execution_count": 16,
   "id": "fd34b941",
   "metadata": {},
   "outputs": [],
   "source": [
    "from selenium import webdriver\n",
    "from selenium.webdriver.common.by import By\n",
    "import time"
   ]
  },
  {
   "cell_type": "code",
   "execution_count": 2,
   "id": "ba8a3633",
   "metadata": {},
   "outputs": [
    {
     "name": "stderr",
     "output_type": "stream",
     "text": [
      "/var/folders/sb/yyvqcbn90d979xflbm03f1480000gn/T/ipykernel_63459/2207422390.py:3: DeprecationWarning: executable_path has been deprecated, please pass in a Service object\n",
      "  browser = webdriver.Chrome(path) # \"./chromedriver.exe\"\n"
     ]
    }
   ],
   "source": [
    "path = \"/Users/inseop/Desktop/python/python-miyoung/2일차_크롤링/chromedriver\"\n",
    "\n",
    "browser = webdriver.Chrome(path) # \"./chromedriver.exe\""
   ]
  },
  {
   "cell_type": "code",
   "execution_count": 18,
   "id": "5197f736",
   "metadata": {
    "scrolled": true
   },
   "outputs": [
    {
     "name": "stdout",
     "output_type": "stream",
     "text": [
      "검색하시고자 하는 앱 이름을 입력하세요.쿠팡\n",
      "https://play.google.com/store/search?q=쿠팡&c=apps\n",
      "https://play.google.com/store/apps/details?id=com.coupang.mobile\n",
      "<selenium.webdriver.remote.webelement.WebElement (session=\"bc01cf90647b7d0e4f1bf2d4f880b534\", element=\"c7862ffc-10e9-4340-ab25-d1ea57d923ad\")>\n"
     ]
    }
   ],
   "source": [
    "search_word = input(\"검색하시고자 하는 앱 이름을 입력하세요.\")\n",
    "\n",
    "url = \"https://play.google.com/store/search?q={}&c=apps\"\n",
    "\n",
    "final_url = url.format(search_word)\n",
    "print(final_url)\n",
    "browser.get(final_url)\n",
    "\n",
    "time.sleep(3)\n",
    "browser.implicitly_wait(5)\n",
    "app_url = browser.find_element(By.CLASS_NAME, 'Si6A0c').get_attribute('href')\n",
    "print(app_url)\n",
    "\n",
    "browser.get(app_url)"
   ]
  },
  {
   "cell_type": "code",
   "execution_count": 28,
   "id": "db4247b8",
   "metadata": {},
   "outputs": [],
   "source": [
    "# browser.find_element(By.CLASS_NAME, 'VfPpkd-Bz112c-Jh9lGc').click()\n",
    "\n",
    "browser.find_element(By.XPATH, '//*[@id=\"yDmH0d\"]/c-wiz[2]/div/div/div[1]/div[2]/div/div[1]/c-wiz[4]/section/header/div/div[2]/button').click()"
   ]
  },
  {
   "cell_type": "code",
   "execution_count": 41,
   "id": "8486b95f",
   "metadata": {},
   "outputs": [],
   "source": [
    "browser.find_element(By.CLASS_NAME, 'RHo1pe').click()"
   ]
  },
  {
   "cell_type": "code",
   "execution_count": 42,
   "id": "beda660f",
   "metadata": {},
   "outputs": [],
   "source": [
    "# SCROLL_PAUSE_SEC = 1\n",
    "\n",
    "# # 스크롤 높이 가져옴\n",
    "# last_height = browser.execute_script(\"return document.body.scrollHeight\")\n",
    "\n",
    "# while True:\n",
    "#     # 끝까지 스크롤 다운\n",
    "#     browser.execute_script(\"window.scrollTo(0, document.body.scrollHeight);\")\n",
    "\n",
    "#     # 1초 대기\n",
    "#     time.sleep(SCROLL_PAUSE_SEC)\n",
    "\n",
    "#     # 스크롤 다운 후 스크롤 높이 다시 가져옴\n",
    "#     new_height = browser.execute_script(\"return document.body.scrollHeight\")\n",
    "#     if new_height == last_height:\n",
    "#         break\n",
    "#     last_height = new_height"
   ]
  },
  {
   "cell_type": "code",
   "execution_count": 53,
   "id": "f53b05a7",
   "metadata": {},
   "outputs": [
    {
     "ename": "ElementNotInteractableException",
     "evalue": "Message: element not interactable\n  (Session info: chrome=107.0.5304.62)\nStacktrace:\n0   chromedriver                        0x000000010b29c598 chromedriver + 4404632\n1   chromedriver                        0x000000010b223fa3 chromedriver + 3911587\n2   chromedriver                        0x000000010aed0d20 chromedriver + 425248\n3   chromedriver                        0x000000010af02e5f chromedriver + 630367\n4   chromedriver                        0x000000010af02402 chromedriver + 627714\n5   chromedriver                        0x000000010af26da2 chromedriver + 777634\n6   chromedriver                        0x000000010aefd465 chromedriver + 607333\n7   chromedriver                        0x000000010af26efe chromedriver + 777982\n8   chromedriver                        0x000000010af3df79 chromedriver + 872313\n9   chromedriver                        0x000000010af26bd3 chromedriver + 777171\n10  chromedriver                        0x000000010aefbced chromedriver + 601325\n11  chromedriver                        0x000000010aefce51 chromedriver + 605777\n12  chromedriver                        0x000000010b26c0ce chromedriver + 4206798\n13  chromedriver                        0x000000010b270797 chromedriver + 4224919\n14  chromedriver                        0x000000010b277a4f chromedriver + 4254287\n15  chromedriver                        0x000000010b2714da chromedriver + 4228314\n16  chromedriver                        0x000000010b24a23f chromedriver + 4067903\n17  chromedriver                        0x000000010b28e6a8 chromedriver + 4347560\n18  chromedriver                        0x000000010b28e816 chromedriver + 4347926\n19  chromedriver                        0x000000010b2a38fe chromedriver + 4434174\n20  libsystem_pthread.dylib             0x00007ff813af34e1 _pthread_start + 125\n21  libsystem_pthread.dylib             0x00007ff813aeef6b thread_start + 15\n",
     "output_type": "error",
     "traceback": [
      "\u001b[0;31m---------------------------------------------------------------------------\u001b[0m",
      "\u001b[0;31mElementNotInteractableException\u001b[0m           Traceback (most recent call last)",
      "Input \u001b[0;32mIn [53]\u001b[0m, in \u001b[0;36m<cell line: 3>\u001b[0;34m()\u001b[0m\n\u001b[1;32m      1\u001b[0m \u001b[38;5;28;01mfrom\u001b[39;00m \u001b[38;5;21;01mselenium\u001b[39;00m\u001b[38;5;21;01m.\u001b[39;00m\u001b[38;5;21;01mwebdriver\u001b[39;00m\u001b[38;5;21;01m.\u001b[39;00m\u001b[38;5;21;01mcommon\u001b[39;00m\u001b[38;5;21;01m.\u001b[39;00m\u001b[38;5;21;01mkeys\u001b[39;00m \u001b[38;5;28;01mimport\u001b[39;00m Keys\n\u001b[1;32m      3\u001b[0m \u001b[38;5;28;01mfor\u001b[39;00m c \u001b[38;5;129;01min\u001b[39;00m \u001b[38;5;28mrange\u001b[39m(\u001b[38;5;241m0\u001b[39m,\u001b[38;5;241m5\u001b[39m):\n\u001b[0;32m----> 4\u001b[0m     \u001b[43mbrowser\u001b[49m\u001b[38;5;241;43m.\u001b[39;49m\u001b[43mfind_element\u001b[49m\u001b[43m(\u001b[49m\u001b[43mBy\u001b[49m\u001b[38;5;241;43m.\u001b[39;49m\u001b[43mCLASS_NAME\u001b[49m\u001b[43m,\u001b[49m\u001b[43m \u001b[49m\u001b[38;5;124;43m'\u001b[39;49m\u001b[38;5;124;43mt8iiQe\u001b[39;49m\u001b[38;5;124;43m'\u001b[39;49m\u001b[43m)\u001b[49m\u001b[38;5;241;43m.\u001b[39;49m\u001b[43msend_keys\u001b[49m\u001b[43m(\u001b[49m\u001b[43mKeys\u001b[49m\u001b[38;5;241;43m.\u001b[39;49m\u001b[43mPAGE_DOWN\u001b[49m\u001b[43m)\u001b[49m\n\u001b[1;32m      5\u001b[0m     time\u001b[38;5;241m.\u001b[39msleep(\u001b[38;5;241m1\u001b[39m)\n",
      "File \u001b[0;32m/Library/Frameworks/Python.framework/Versions/3.9/lib/python3.9/site-packages/selenium/webdriver/remote/webelement.py:223\u001b[0m, in \u001b[0;36mWebElement.send_keys\u001b[0;34m(self, *value)\u001b[0m\n\u001b[1;32m    220\u001b[0m             remote_files\u001b[38;5;241m.\u001b[39mappend(\u001b[38;5;28mself\u001b[39m\u001b[38;5;241m.\u001b[39m_upload(file))\n\u001b[1;32m    221\u001b[0m         value \u001b[38;5;241m=\u001b[39m \u001b[38;5;124m'\u001b[39m\u001b[38;5;130;01m\\n\u001b[39;00m\u001b[38;5;124m'\u001b[39m\u001b[38;5;241m.\u001b[39mjoin(remote_files)\n\u001b[0;32m--> 223\u001b[0m \u001b[38;5;28;43mself\u001b[39;49m\u001b[38;5;241;43m.\u001b[39;49m\u001b[43m_execute\u001b[49m\u001b[43m(\u001b[49m\u001b[43mCommand\u001b[49m\u001b[38;5;241;43m.\u001b[39;49m\u001b[43mSEND_KEYS_TO_ELEMENT\u001b[49m\u001b[43m,\u001b[49m\n\u001b[1;32m    224\u001b[0m \u001b[43m              \u001b[49m\u001b[43m{\u001b[49m\u001b[38;5;124;43m'\u001b[39;49m\u001b[38;5;124;43mtext\u001b[39;49m\u001b[38;5;124;43m'\u001b[39;49m\u001b[43m:\u001b[49m\u001b[43m \u001b[49m\u001b[38;5;124;43m\"\u001b[39;49m\u001b[38;5;124;43m\"\u001b[39;49m\u001b[38;5;241;43m.\u001b[39;49m\u001b[43mjoin\u001b[49m\u001b[43m(\u001b[49m\u001b[43mkeys_to_typing\u001b[49m\u001b[43m(\u001b[49m\u001b[43mvalue\u001b[49m\u001b[43m)\u001b[49m\u001b[43m)\u001b[49m\u001b[43m,\u001b[49m\n\u001b[1;32m    225\u001b[0m \u001b[43m               \u001b[49m\u001b[38;5;124;43m'\u001b[39;49m\u001b[38;5;124;43mvalue\u001b[39;49m\u001b[38;5;124;43m'\u001b[39;49m\u001b[43m:\u001b[49m\u001b[43m \u001b[49m\u001b[43mkeys_to_typing\u001b[49m\u001b[43m(\u001b[49m\u001b[43mvalue\u001b[49m\u001b[43m)\u001b[49m\u001b[43m}\u001b[49m\u001b[43m)\u001b[49m\n",
      "File \u001b[0;32m/Library/Frameworks/Python.framework/Versions/3.9/lib/python3.9/site-packages/selenium/webdriver/remote/webelement.py:396\u001b[0m, in \u001b[0;36mWebElement._execute\u001b[0;34m(self, command, params)\u001b[0m\n\u001b[1;32m    394\u001b[0m     params \u001b[38;5;241m=\u001b[39m {}\n\u001b[1;32m    395\u001b[0m params[\u001b[38;5;124m'\u001b[39m\u001b[38;5;124mid\u001b[39m\u001b[38;5;124m'\u001b[39m] \u001b[38;5;241m=\u001b[39m \u001b[38;5;28mself\u001b[39m\u001b[38;5;241m.\u001b[39m_id\n\u001b[0;32m--> 396\u001b[0m \u001b[38;5;28;01mreturn\u001b[39;00m \u001b[38;5;28;43mself\u001b[39;49m\u001b[38;5;241;43m.\u001b[39;49m\u001b[43m_parent\u001b[49m\u001b[38;5;241;43m.\u001b[39;49m\u001b[43mexecute\u001b[49m\u001b[43m(\u001b[49m\u001b[43mcommand\u001b[49m\u001b[43m,\u001b[49m\u001b[43m \u001b[49m\u001b[43mparams\u001b[49m\u001b[43m)\u001b[49m\n",
      "File \u001b[0;32m/Library/Frameworks/Python.framework/Versions/3.9/lib/python3.9/site-packages/selenium/webdriver/remote/webdriver.py:429\u001b[0m, in \u001b[0;36mWebDriver.execute\u001b[0;34m(self, driver_command, params)\u001b[0m\n\u001b[1;32m    427\u001b[0m response \u001b[38;5;241m=\u001b[39m \u001b[38;5;28mself\u001b[39m\u001b[38;5;241m.\u001b[39mcommand_executor\u001b[38;5;241m.\u001b[39mexecute(driver_command, params)\n\u001b[1;32m    428\u001b[0m \u001b[38;5;28;01mif\u001b[39;00m response:\n\u001b[0;32m--> 429\u001b[0m     \u001b[38;5;28;43mself\u001b[39;49m\u001b[38;5;241;43m.\u001b[39;49m\u001b[43merror_handler\u001b[49m\u001b[38;5;241;43m.\u001b[39;49m\u001b[43mcheck_response\u001b[49m\u001b[43m(\u001b[49m\u001b[43mresponse\u001b[49m\u001b[43m)\u001b[49m\n\u001b[1;32m    430\u001b[0m     response[\u001b[38;5;124m'\u001b[39m\u001b[38;5;124mvalue\u001b[39m\u001b[38;5;124m'\u001b[39m] \u001b[38;5;241m=\u001b[39m \u001b[38;5;28mself\u001b[39m\u001b[38;5;241m.\u001b[39m_unwrap_value(\n\u001b[1;32m    431\u001b[0m         response\u001b[38;5;241m.\u001b[39mget(\u001b[38;5;124m'\u001b[39m\u001b[38;5;124mvalue\u001b[39m\u001b[38;5;124m'\u001b[39m, \u001b[38;5;28;01mNone\u001b[39;00m))\n\u001b[1;32m    432\u001b[0m     \u001b[38;5;28;01mreturn\u001b[39;00m response\n",
      "File \u001b[0;32m/Library/Frameworks/Python.framework/Versions/3.9/lib/python3.9/site-packages/selenium/webdriver/remote/errorhandler.py:243\u001b[0m, in \u001b[0;36mErrorHandler.check_response\u001b[0;34m(self, response)\u001b[0m\n\u001b[1;32m    241\u001b[0m         alert_text \u001b[38;5;241m=\u001b[39m value[\u001b[38;5;124m'\u001b[39m\u001b[38;5;124malert\u001b[39m\u001b[38;5;124m'\u001b[39m]\u001b[38;5;241m.\u001b[39mget(\u001b[38;5;124m'\u001b[39m\u001b[38;5;124mtext\u001b[39m\u001b[38;5;124m'\u001b[39m)\n\u001b[1;32m    242\u001b[0m     \u001b[38;5;28;01mraise\u001b[39;00m exception_class(message, screen, stacktrace, alert_text)  \u001b[38;5;66;03m# type: ignore[call-arg]  # mypy is not smart enough here\u001b[39;00m\n\u001b[0;32m--> 243\u001b[0m \u001b[38;5;28;01mraise\u001b[39;00m exception_class(message, screen, stacktrace)\n",
      "\u001b[0;31mElementNotInteractableException\u001b[0m: Message: element not interactable\n  (Session info: chrome=107.0.5304.62)\nStacktrace:\n0   chromedriver                        0x000000010b29c598 chromedriver + 4404632\n1   chromedriver                        0x000000010b223fa3 chromedriver + 3911587\n2   chromedriver                        0x000000010aed0d20 chromedriver + 425248\n3   chromedriver                        0x000000010af02e5f chromedriver + 630367\n4   chromedriver                        0x000000010af02402 chromedriver + 627714\n5   chromedriver                        0x000000010af26da2 chromedriver + 777634\n6   chromedriver                        0x000000010aefd465 chromedriver + 607333\n7   chromedriver                        0x000000010af26efe chromedriver + 777982\n8   chromedriver                        0x000000010af3df79 chromedriver + 872313\n9   chromedriver                        0x000000010af26bd3 chromedriver + 777171\n10  chromedriver                        0x000000010aefbced chromedriver + 601325\n11  chromedriver                        0x000000010aefce51 chromedriver + 605777\n12  chromedriver                        0x000000010b26c0ce chromedriver + 4206798\n13  chromedriver                        0x000000010b270797 chromedriver + 4224919\n14  chromedriver                        0x000000010b277a4f chromedriver + 4254287\n15  chromedriver                        0x000000010b2714da chromedriver + 4228314\n16  chromedriver                        0x000000010b24a23f chromedriver + 4067903\n17  chromedriver                        0x000000010b28e6a8 chromedriver + 4347560\n18  chromedriver                        0x000000010b28e816 chromedriver + 4347926\n19  chromedriver                        0x000000010b2a38fe chromedriver + 4434174\n20  libsystem_pthread.dylib             0x00007ff813af34e1 _pthread_start + 125\n21  libsystem_pthread.dylib             0x00007ff813aeef6b thread_start + 15\n"
     ]
    }
   ],
   "source": [
    "# from selenium.webdriver.common.keys import Keys\n",
    "\n",
    "# for c in range(0,5):\n",
    "#     browser.find_element(By.CLASS_NAME, 't8iiQe').send_keys(Keys.PAGE_DOWN)\n",
    "#     time.sleep(1)\n",
    "# #     browser.find_element(By.CLASS_NAME, 'RHo1pe').sendKeys(Keys.PAGE_DOWN)"
   ]
  },
  {
   "cell_type": "code",
   "execution_count": 62,
   "id": "be251f08",
   "metadata": {},
   "outputs": [],
   "source": [
    "import datetime\n",
    "    \n",
    "def doScrollDown(whileSeconds):\n",
    "    start = datetime.datetime.now()\n",
    "    end = start + datetime.timedelta(seconds=whileSeconds)\n",
    "    \n",
    "    while True:\n",
    "        browser.execute_script('window.scrollTo(0, document.body.scrollHeight);')\n",
    "        time.sleep(1)\n",
    "        if datetime.datetime.now() > end:\n",
    "            break\n",
    "            \n",
    "doScrollDown(2)"
   ]
  },
  {
   "cell_type": "code",
   "execution_count": null,
   "id": "74569dbd",
   "metadata": {},
   "outputs": [],
   "source": []
  }
 ],
 "metadata": {
  "kernelspec": {
   "display_name": "Python 3 (ipykernel)",
   "language": "python",
   "name": "python3"
  },
  "language_info": {
   "codemirror_mode": {
    "name": "ipython",
    "version": 3
   },
   "file_extension": ".py",
   "mimetype": "text/x-python",
   "name": "python",
   "nbconvert_exporter": "python",
   "pygments_lexer": "ipython3",
   "version": "3.9.7"
  }
 },
 "nbformat": 4,
 "nbformat_minor": 5
}
