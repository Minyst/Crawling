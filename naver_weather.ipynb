{
 "cells": [
  {
   "cell_type": "code",
   "execution_count": 1,
   "id": "fc3285b1",
   "metadata": {},
   "outputs": [],
   "source": [
    "from selenium import webdriver"
   ]
  },
  {
   "cell_type": "code",
   "execution_count": 2,
   "id": "31438a6c",
   "metadata": {},
   "outputs": [],
   "source": [
    "browser = webdriver.Chrome()"
   ]
  },
  {
   "cell_type": "code",
   "execution_count": 3,
   "id": "6f595a6d",
   "metadata": {},
   "outputs": [],
   "source": [
    "browser.get('https://www.naver.com')"
   ]
  },
  {
   "cell_type": "code",
   "execution_count": null,
   "id": "9203922d",
   "metadata": {},
   "outputs": [],
   "source": [
    "from selenium.webdriver.common.by import By"
   ]
  },
  {
   "cell_type": "code",
   "execution_count": null,
   "id": "a1305c3e",
   "metadata": {},
   "outputs": [],
   "source": [
    "browser.find_element(By.ID, 'query').send_keys('날씨')"
   ]
  },
  {
   "cell_type": "code",
   "execution_count": null,
   "id": "385120f5",
   "metadata": {},
   "outputs": [],
   "source": [
    "browser.find_element(By.ID,'search_btn').click()"
   ]
  },
  {
   "cell_type": "code",
   "execution_count": null,
   "id": "80a64c70",
   "metadata": {},
   "outputs": [],
   "source": [
    "browser.find_element(By.XPATH,'//*[@id=\"main_pack\"]/section[1]/div[1]/div[2]/div[1]/div[1]/div/div[2]/div/div[1]/div[1]/div[2]/strong').text[6:11]"
   ]
  },
  {
   "cell_type": "code",
   "execution_count": null,
   "id": "50ebc531",
   "metadata": {},
   "outputs": [],
   "source": [
    "browser.find_element(By.ID,'nx_query').click()"
   ]
  },
  {
   "cell_type": "code",
   "execution_count": null,
   "id": "bd139da1",
   "metadata": {},
   "outputs": [],
   "source": [
    "browser.find_element(By.ID,'nx_query').clear()"
   ]
  },
  {
   "cell_type": "code",
   "execution_count": null,
   "id": "13bb5124",
   "metadata": {},
   "outputs": [],
   "source": [
    "browser.find_element(By.ID,'nx_query').send_keys('환율')"
   ]
  },
  {
   "cell_type": "code",
   "execution_count": null,
   "id": "aa9c0e19",
   "metadata": {},
   "outputs": [],
   "source": [
    "browser.find_element(By.CLASS_NAME,'bt_search').click()"
   ]
  },
  {
   "cell_type": "code",
   "execution_count": null,
   "id": "362ae9f4",
   "metadata": {},
   "outputs": [],
   "source": [
    "browser.find_element(By.XPATH,'//*[@id=\"_cs_foreigninfo\"]/div/div[2]/div/div[1]/div[1]/div[1]/div[1]/h3/a/span[2]/strong').text"
   ]
  },
  {
   "cell_type": "code",
   "execution_count": null,
   "id": "cccd64dd",
   "metadata": {},
   "outputs": [],
   "source": []
  }
 ],
 "metadata": {
  "kernelspec": {
   "display_name": "Python 3 (ipykernel)",
   "language": "python",
   "name": "python3"
  },
  "language_info": {
   "codemirror_mode": {
    "name": "ipython",
    "version": 3
   },
   "file_extension": ".py",
   "mimetype": "text/x-python",
   "name": "python",
   "nbconvert_exporter": "python",
   "pygments_lexer": "ipython3",
   "version": "3.9.7"
  },
  "vscode": {
   "interpreter": {
    "hash": "e520b3ff7cf246111ae6aaa8c952e6cb93639346388a365209613764d9559090"
   }
  }
 },
 "nbformat": 4,
 "nbformat_minor": 5
}
