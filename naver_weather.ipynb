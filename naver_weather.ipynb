{
 "cells": [
  {
   "cell_type": "code",
   "execution_count": 73,
   "id": "fc3285b1",
   "metadata": {},
   "outputs": [],
   "source": [
    "from selenium import webdriver"
   ]
  },
  {
   "cell_type": "code",
   "execution_count": 114,
   "id": "31438a6c",
   "metadata": {},
   "outputs": [],
   "source": [
    "browser = webdriver.Chrome()"
   ]
  },
  {
   "cell_type": "code",
   "execution_count": 75,
   "id": "6f595a6d",
   "metadata": {},
   "outputs": [],
   "source": [
    "browser.get('https://www.naver.com')"
   ]
  },
  {
   "cell_type": "code",
   "execution_count": 64,
   "id": "9203922d",
   "metadata": {},
   "outputs": [],
   "source": [
    "from selenium.webdriver.common.by import By"
   ]
  },
  {
   "cell_type": "code",
   "execution_count": 76,
   "id": "c9ffbac2",
   "metadata": {},
   "outputs": [],
   "source": [
    "browser.find_element(By.ID, 'query').send_keys('날씨')"
   ]
  },
  {
   "cell_type": "code",
   "execution_count": 77,
   "id": "2e1a5ccc",
   "metadata": {},
   "outputs": [],
   "source": [
    "browser.find_element(By.ID,'search_btn').click()"
   ]
  },
  {
   "cell_type": "code",
   "execution_count": 53,
   "id": "55a2241f",
   "metadata": {},
   "outputs": [
    {
     "data": {
      "text/plain": [
       "'16.4°'"
      ]
     },
     "execution_count": 53,
     "metadata": {},
     "output_type": "execute_result"
    }
   ],
   "source": [
    "browser.find_element(By.XPATH,'//*[@id=\"main_pack\"]/section[1]/div[1]/div[2]/div[1]/div[1]/div/div[2]/div/div[1]/div[1]/div[2]/strong').text[6:11]"
   ]
  },
  {
   "cell_type": "code",
   "execution_count": 78,
   "id": "6dad0aa5",
   "metadata": {
    "scrolled": true
   },
   "outputs": [],
   "source": [
    "browser.find_element(By.ID,'nx_query').click()"
   ]
  },
  {
   "cell_type": "code",
   "execution_count": 79,
   "id": "a741b57e",
   "metadata": {},
   "outputs": [],
   "source": [
    "browser.find_element(By.ID,'nx_query').clear()"
   ]
  },
  {
   "cell_type": "code",
   "execution_count": 80,
   "id": "4a6aca60",
   "metadata": {},
   "outputs": [],
   "source": [
    "browser.find_element(By.ID,'nx_query').send_keys('환율')"
   ]
  },
  {
   "cell_type": "code",
   "execution_count": 81,
   "id": "77d7e9a7",
   "metadata": {},
   "outputs": [],
   "source": [
    "browser.find_element(By.CLASS_NAME,'bt_search').click()"
   ]
  },
  {
   "cell_type": "code",
   "execution_count": 82,
   "id": "a95e0711",
   "metadata": {},
   "outputs": [
    {
     "data": {
      "text/plain": [
       "'1,433.00'"
      ]
     },
     "execution_count": 82,
     "metadata": {},
     "output_type": "execute_result"
    }
   ],
   "source": [
    "browser.find_element(By.XPATH,'//*[@id=\"_cs_foreigninfo\"]/div/div[2]/div/div[1]/div[1]/div[1]/div[1]/h3/a/span[2]/strong').text"
   ]
  },
  {
   "cell_type": "code",
   "execution_count": 115,
   "id": "42244c6c",
   "metadata": {},
   "outputs": [],
   "source": [
    "browser.get('https://www.google.com/search?q=%EC%9E%90%EB%8F%99%ED%99%94&tbm=nws&source=lnt&tbs=qdr:d&sa=X&ved=2ahUKEwjc5Kj14Pr6AhUqE3AKHTv7CZcQpwV6BAgCEBo&biw=982&bih=700&dpr=1.25')"
   ]
  },
  {
   "cell_type": "code",
   "execution_count": 88,
   "id": "e151e833",
   "metadata": {},
   "outputs": [
    {
     "data": {
      "text/plain": [
       "'한화생명 청약자동화 솔루션 특허…GA설계사 업무간소화'"
      ]
     },
     "execution_count": 88,
     "metadata": {},
     "output_type": "execute_result"
    }
   ],
   "source": [
    "browser.find_element(By.CLASS_NAME,\"mCBkyc\").text"
   ]
  },
  {
   "cell_type": "code",
   "execution_count": 89,
   "id": "0b6f5256",
   "metadata": {},
   "outputs": [
    {
     "data": {
      "text/plain": [
       "\"(서울=연합뉴스) 이지헌 기자 = 한화생명[088350]은 보험설계 및 청약 업무 프로세스 자동화 기술인 '청약 자동화 솔루션'이 BM 특허를 ...\""
      ]
     },
     "execution_count": 89,
     "metadata": {},
     "output_type": "execute_result"
    }
   ],
   "source": [
    "browser.find_element(By.CLASS_NAME,'GI74Re').text"
   ]
  },
  {
   "cell_type": "code",
   "execution_count": 91,
   "id": "e3868473",
   "metadata": {},
   "outputs": [
    {
     "data": {
      "text/plain": [
       "'https://www.yna.co.kr/view/AKR20221025034300002'"
      ]
     },
     "execution_count": 91,
     "metadata": {},
     "output_type": "execute_result"
    }
   ],
   "source": [
    "browser.find_element(By.CLASS_NAME,'WlydOe').get_attribute('href')"
   ]
  },
  {
   "cell_type": "code",
   "execution_count": 117,
   "id": "5a0d8124",
   "metadata": {},
   "outputs": [
    {
     "data": {
      "text/plain": [
       "[\"'5분이면 청약 끝'…한화생명 청약자동화 솔루션 특허 취득\",\n",
       " \"한화생명 '청약자동화 솔루션' 특허 취득...5분이면 청약 가능\",\n",
       " '한화생명 ‘보험 신계약 자동화’ 특허 취득',\n",
       " '롯데홈쇼핑 이천 물류센터 오픈...최첨단 자동화 시스템 갖춰',\n",
       " '‘2022 국제 공구 및 스마트 용접 자동화전’ 성료',\n",
       " '자동화로 네트워크 전체 스위치 업그레이드를 효율화하는 방법',\n",
       " '창원 34년 역사 국제용접·절단자동화전 폐막',\n",
       " \"[기고] Digital Labor와 사람이 공생하는 '미래'가 아닌 '현실 ...\",\n",
       " '한화생명 청약자동화 솔루션 특허 취득',\n",
       " '최고의 회사 판매 소비 가격 및 성장률과 함께 광업 실험실 ...']"
      ]
     },
     "execution_count": 117,
     "metadata": {},
     "output_type": "execute_result"
    }
   ],
   "source": [
    "title = []\n",
    "for i in browser.find_elements(By.CLASS_NAME,\"mCBkyc\"):\n",
    "    temp = i.text\n",
    "    temp = temp.replace(',','')\n",
    "    title.append(temp)\n",
    "title"
   ]
  },
  {
   "cell_type": "code",
   "execution_count": 118,
   "id": "ad129848",
   "metadata": {},
   "outputs": [
    {
     "data": {
      "text/plain": [
       "['(서울=연합인포맥스) 정지서 기자 = 한화생명이 업계 최초로 보험 신계약 과정을 로봇 기술로 자동화하며 법인대리점(GA) 시장에서의 영업 경쟁력 강화에 나섰다.',\n",
       " \"한화생명은 보험설계 및 청약 업무 프로세스 자동화 기술인 '청약자동화 솔루션'에 대한 BM특허를 특허청으로부터 취득했다고 25일 밝혔다.\",\n",
       " '청약 자동화 솔루션은 보험 가입 설계부터 청약에 이르는 신계약을 진행하는 동안 설계봇이 설계사를 보조하는 시스템이다. 이 시스템이 업무에 적용되면 법인보험대리점(...',\n",
       " '자율주행로봇 무인운반차 로봇팔 디팔렛타이저 등 최첨단 자동화 설비 도입. 롯데홈쇼핑(대표 이완신)이 난 21일(금) 경기도 이천에서 업계 최초로 자동화 시스템을...',\n",
       " \"최첨단 공구 및 스마트 용접 자동화기기를 한눈에 볼 수 있었던 '2022 국제 공구 및 스마트 용접 자동화전(TOOL TECH + SMART WELDING AUTOMATION FAIR)'이 나흘간 2...\",\n",
       " '자동화는 반복적인 네트워킹 작업에서 큰 차이를 만들어낼 수 있다. 파이썬 스크립트와 오픈소스 툴을 사용해 엔터프라이즈 스위치 업그레이드를 효율화하기 위해 필자...',\n",
       " '이번 국제용접 및 절단자동화전에는 약 1만 여명의 참관객이 다녀갔으며 코로나19 이전보다 122% 증가한 118개사 426부스로 역대 최대 규모의 개최실적을 달성했다.',\n",
       " '로보틱 프로세스 자동화(RPA·Robotic Process Automation)가 이런 디지털화 최전선에서 우선 기술로 자리매김하면서 빠르게 확산하며 문화적으로나 질적으로 변화를...',\n",
       " '청약자동화 솔루션은 고객 정보를 입력하면 가입설계부터 청약에 이르는 신계약 과정을 설계봇이 설계사를 보조하여 청약업무의 편의성을 증대하는 시스템이다.',\n",
       " '글로벌 광산 실험실 자동화 시스템 시장의 주요 참가자는 다음과 같습니다. FLSmidth A/S Bruker Corporation Datech Scientific Ltd. Intertek Group PLC Rocklabs(...']"
      ]
     },
     "execution_count": 118,
     "metadata": {},
     "output_type": "execute_result"
    }
   ],
   "source": [
    "content = []\n",
    "for i in browser.find_elements(By.CLASS_NAME,'GI74Re'):\n",
    "    temp = i.text\n",
    "    temp = temp.replace(',','')\n",
    "    content.append(temp)\n",
    "content"
   ]
  },
  {
   "cell_type": "code",
   "execution_count": 119,
   "id": "a2f9b220",
   "metadata": {},
   "outputs": [
    {
     "data": {
      "text/plain": [
       "['https://news.einfomax.co.kr/news/articleView.html?idxno=4239120',\n",
       " 'https://www.ngetnews.com/news/articleView.html?idxno=411836',\n",
       " 'https://m.khan.co.kr/economy/finance/article/202210251130001',\n",
       " 'http://www.klnews.co.kr/news/articleView.html?idxno=305926',\n",
       " 'http://www.snmnews.com/news/articleView.html?idxno=506612',\n",
       " 'https://www.itworld.co.kr/news/260974',\n",
       " 'https://www.shinailbo.co.kr/news/articleView.html?idxno=1614678',\n",
       " 'https://zdnet.co.kr/view/?no=20221025151016',\n",
       " 'http://www.ekoreanews.co.kr/news/articleView.html?idxno=63431',\n",
       " 'https://osaek.info/%EC%86%8C%EC%8B%9D/%EC%B5%9C%EA%B3%A0%EC%9D%98-%ED%9A%8C%EC%82%AC-%ED%8C%90%EB%A7%A4-%EC%86%8C%EB%B9%84-%EA%B0%80%EA%B2%A9-%EB%B0%8F-%EC%84%B1%EC%9E%A5%EB%A5%A0%EA%B3%BC-%ED%95%A8%EA%BB%98-%EA%B4%91%EC%97%85/20361/']"
      ]
     },
     "execution_count": 119,
     "metadata": {},
     "output_type": "execute_result"
    }
   ],
   "source": [
    "link = []\n",
    "for i in browser.find_elements(By.CLASS_NAME,'WlydOe'):\n",
    "    link.append(i.get_attribute('href'))\n",
    "link"
   ]
  },
  {
   "cell_type": "code",
   "execution_count": 102,
   "id": "ae9725de",
   "metadata": {},
   "outputs": [
    {
     "data": {
      "text/plain": [
       "['한화생명 청약자동화 솔루션 특허…GA설계사 업무간소화',\n",
       " '한화생명, 보험 계약 자동화 솔루션 특허 취득',\n",
       " '한화생명, 청약자동화 솔루션 특허 취득 - 서울경제',\n",
       " '한화생명, 청약자동화 솔루션 특허 취득',\n",
       " '한화생명 보험가입 5분이면 끝…청약자동화 솔루션 특허 취득',\n",
       " \"한화생명, 청약자동화 솔루션 특허 '설계부터 청약까지 단 5분'\",\n",
       " '한화생명, 청약자동화 솔루션 특허 취득',\n",
       " '한화생명 청약자동화 솔루션 특허GA설계사 업무간소화',\n",
       " '가입설계부터 청약까지 ‘스마트폰’으로 단 5분!... 한화생명, 청약자동화 솔루션 특허 취득',\n",
       " '자동화로 네트워크 전체 스위치 업그레이드를 효율화하는 방법',\n",
       " '롯데홈쇼핑, 이천 물류센터 오픈...최첨단 자동화 시스템 도입',\n",
       " '코닉오토메이션 수주공시 - 검사 자동화 시스템 구축 Phase1 14.3억원 (매출액대비 5.24 %)']"
      ]
     },
     "execution_count": 102,
     "metadata": {},
     "output_type": "execute_result"
    }
   ],
   "source": [
    "title"
   ]
  },
  {
   "cell_type": "code",
   "execution_count": 103,
   "id": "9afec610",
   "metadata": {},
   "outputs": [
    {
     "data": {
      "text/plain": [
       "[\"(서울=연합뉴스) 이지헌 기자 = 한화생명[088350]은 보험설계 및 청약 업무 프로세스 자동화 기술인 '청약 자동화 솔루션'이 BM 특허를 ...\",\n",
       " '한화생명은 25일 보험설계와 계약 업무 프로세스를 자동화하는 기술인 \"청약자동화 솔루션\"이 특허청으로부터 \"BM(Business Method)특허&quo...',\n",
       " '한화생명이 업계 최초로 보험 신계약 과정을 로봇 기술로 자동화하며 법인대리점(GA) 시장에서의 영업 경쟁력 강화에 나섰다. 25...',\n",
       " '한화생명이 업계 최초로 보험 신계약 과정을 로봇 기술로 자동화하며 법인대리점(GA) 시장에서의 영업 경쟁력 강화에 나섰다.한화생명은 보험설계 및...',\n",
       " '한화생명이 청약자동화 솔루션을 개발하고 특허청으로부터 BM특허를 받았다. 사진은 이번 솔루션 개발과 특허 출원에 나선 (왼쪽부터) 김도형 영업...',\n",
       " '한화생명이 업계 최초로 보험 신계약 과정을 로봇 기술로 자동화하며 법인대리점(GA) 시장에서의 영업 경쟁력 강화에 나섰다. 한화생명은 보험설계 및...',\n",
       " '한화생명이 보험가입부터 청약까지 5분이면 마칠 수 있는 로봇 기술을 도입해 법인보험대리점(GA) 시장 영업 경쟁력 강화에 나섰다.',\n",
       " '한화생명 청약자동화 솔루션 특허…GA설계사 업무간소화(서울=연합뉴스) 이지헌 기자 = 한화생명[088350]은 보험설계 및 청약 업무 프로세스 자동화...',\n",
       " \"가입설계부터 청약까지 '스마트폰'으로 단 5분!... 한화생명, 청약자동화 솔루션 특허 취득, □ 업계 최초 청약 업무 프로세스를 간소화 시켜줄 기술...\"]"
      ]
     },
     "execution_count": 103,
     "metadata": {},
     "output_type": "execute_result"
    }
   ],
   "source": [
    "content"
   ]
  },
  {
   "cell_type": "code",
   "execution_count": 104,
   "id": "261694db",
   "metadata": {},
   "outputs": [
    {
     "data": {
      "text/plain": [
       "['https://www.yna.co.kr/view/AKR20221025034300002',\n",
       " 'https://news.mt.co.kr/mtview.php?no=2022102510404686281',\n",
       " 'https://www.sedaily.com/NewsView/26CHK5V7NA',\n",
       " 'https://www.straightnews.co.kr/news/articleView.html?idxno=219294',\n",
       " 'https://biz.sbs.co.kr/article/20000086101',\n",
       " 'https://www.asiae.co.kr/article/2022102514461143702',\n",
       " 'https://www.etnews.com/20221025000069',\n",
       " 'https://www.wowtv.co.kr/NewsCenter/News/Read?articleId=AKR20221025034300002',\n",
       " 'https://www.hankyung.com/press-release/article/202210251085P',\n",
       " 'https://www.itworld.co.kr/news/260974',\n",
       " 'http://www.nextdaily.co.kr/news/articleView.html?idxno=211142',\n",
       " 'https://www.hankyung.com/finance/article/202210248305L']"
      ]
     },
     "execution_count": 104,
     "metadata": {},
     "output_type": "execute_result"
    }
   ],
   "source": [
    "link"
   ]
  },
  {
   "cell_type": "code",
   "execution_count": 121,
   "id": "8ac7848a",
   "metadata": {},
   "outputs": [],
   "source": [
    "file = open('test3.csv','a',encoding='UTF-8-sig')\n",
    "file.write(\"{},{},{}\\n\".format('제목','내용','링크'))\n",
    "for i in range(10):\n",
    "    file.write(\"{},{},{}\\n\".format(title[i],content[i],link[i]))\n",
    "file.close()"
   ]
  },
  {
   "cell_type": "code",
   "execution_count": 123,
   "id": "1f6bbaef",
   "metadata": {},
   "outputs": [],
   "source": [
    "import pandas as pd \n",
    "df = pd.DataFrame({'제목': title,'내용':content,'링크':link})\n",
    "df.to_csv('test4.csv',index=False)"
   ]
  }
 ],
 "metadata": {
  "kernelspec": {
   "display_name": "Python 3 (ipykernel)",
   "language": "python",
   "name": "python3"
  },
  "language_info": {
   "codemirror_mode": {
    "name": "ipython",
    "version": 3
   },
   "file_extension": ".py",
   "mimetype": "text/x-python",
   "name": "python",
   "nbconvert_exporter": "python",
   "pygments_lexer": "ipython3",
   "version": "3.9.7"
  }
 },
 "nbformat": 4,
 "nbformat_minor": 5
}
